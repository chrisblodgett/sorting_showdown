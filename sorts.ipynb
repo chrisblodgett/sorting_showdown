{
 "cells": [
  {
   "cell_type": "markdown",
   "id": "f118f6077a298412",
   "metadata": {
    "jupyter": {
     "outputs_hidden": false
    }
   },
   "source": [
    "# SORTING SHOWDOWN \n",
    "## BUBBLE INSERTION MERGE\n",
    "## my python implementation of 3 classic sorting algorithms\n"
   ]
  },
  {
   "cell_type": "markdown",
   "id": "90ba0533-bf58-4496-94c2-ad24d06b16d4",
   "metadata": {},
   "source": [
    "### let's start with the squares - bubble and insertion \n",
    "### quadratic running time O(n^2)\n",
    "### spot a tiny problem make a tiny fix  \n"
   ]
  },
  {
   "cell_type": "code",
   "execution_count": 1,
   "id": "7c6fb13af835a30c",
   "metadata": {
    "ExecuteTime": {
     "end_time": "2024-02-22T20:27:41.892692Z",
     "start_time": "2024-02-22T20:27:41.879343Z"
    },
    "jupyter": {
     "outputs_hidden": false
    }
   },
   "outputs": [],
   "source": [
    "def bubble(sort_list):\n",
    "    \"\"\"\n",
    "    good old bubble sort on a list. \n",
    "    loops thorugh the list swapping if the current pos item is > then the next\n",
    "    continues while swapping occurs \n",
    "    \"\"\"\n",
    "    my_list = sort_list.copy()\n",
    "    switched = True\n",
    "    while switched:\n",
    "        switched = False\n",
    "        for counter, _ in enumerate(my_list[:-1]):  # we could have used range, len as well \n",
    "            if my_list[counter] > my_list[counter + 1]:\n",
    "                my_list[counter], my_list[counter + 1] = my_list[counter + 1], my_list[counter]  # pythonic swap, without using temp var \n",
    "                switched = True\n",
    "    return my_list"
   ]
  },
  {
   "cell_type": "code",
   "execution_count": 2,
   "id": "8ceddbb218a46e0f",
   "metadata": {
    "ExecuteTime": {
     "end_time": "2024-02-22T22:06:25.705139Z",
     "start_time": "2024-02-22T22:06:25.702479Z"
    },
    "jupyter": {
     "outputs_hidden": false
    }
   },
   "outputs": [],
   "source": [
    "def insertion(sort_list):\n",
    "    \"\"\"\n",
    "    a slight improvement over insertion sort, but still quadratic time\n",
    "    like sorting a deck of cards, start with the first (top) item as the sorted part\n",
    "    for the remaining (unsorted items) take each one and insert it into the sorted part at the correct location \n",
    "    (compare the item with the end of the sorted and so on until no swaping)\n",
    "    \"\"\"\n",
    "    my_list = sort_list.copy()\n",
    "    unsorted_pos = item_pos = 0\n",
    "    while unsorted_pos<len(sort_list):\n",
    "        switched = True\n",
    "        item_pos = unsorted_pos\n",
    "        while item_pos>0 and switched:\n",
    "            switched = False\n",
    "            if my_list[item_pos]<my_list[item_pos-1]:\n",
    "                my_list[item_pos], my_list[item_pos-1] = my_list[item_pos-1], my_list[item_pos]  # pythonic swap, without using temp var\n",
    "                item_pos-=1 #move to the previous item since we did a swap to there\n",
    "                switched = True #keep checking            \n",
    "        unsorted_pos+=1 # move the unsorted/sorted dividing up\n",
    "    return my_list "
   ]
  },
  {
   "cell_type": "markdown",
   "id": "adf8bf00-12d1-405f-9160-a9240b9c2413",
   "metadata": {},
   "source": [
    "### Divide and Conquer!!!\n",
    "### breaking the quadratic barrier with the legendary merge sort\n",
    "### O(n log(n)) "
   ]
  },
  {
   "cell_type": "code",
   "execution_count": 3,
   "id": "3e29cff0494de3e5",
   "metadata": {
    "ExecuteTime": {
     "end_time": "2024-02-22T22:06:28.410533Z",
     "start_time": "2024-02-22T22:06:28.401818Z"
    },
    "jupyter": {
     "outputs_hidden": false
    }
   },
   "outputs": [],
   "source": [
    "def merge(sort_list):\n",
    "    \"\"\"\n",
    "    merge sort\n",
    "    algorithm involes splitting the list in half recursively and \n",
    "    merge sorted sections back together as recursion unwinds\n",
    "    \"\"\"\n",
    "    # recursively divide if the list has more than one element, sort/merges as they return\n",
    "    if len(sort_list) <= 1:\n",
    "        return sort_list  #reached a leaf, or empty list\n",
    "    half = int(len(sort_list) / 2)  #split in half and then merge/sort the lists as they come back\n",
    "    left, right = merge(sort_list[0:half]), merge(sort_list[half:])\n",
    "    merged = []  \n",
    "    for i in range(len(left) + len(right)):  #sort them as we merge back\n",
    "        if len(left) == 0 or (len(right) > 0 and right[0] <= left[\n",
    "            0]):  # need the checking for empty lists\n",
    "            merged.append(right.pop(0))\n",
    "        else:  # so either len(right)==0 or left<right \n",
    "            merged.append(left.pop(0))\n",
    "    return merged"
   ]
  },
  {
   "cell_type": "code",
   "execution_count": 4,
   "id": "83e07027664eba28",
   "metadata": {
    "ExecuteTime": {
     "end_time": "2024-02-22T23:02:37.399565Z",
     "start_time": "2024-02-22T23:01:54.472261Z"
    },
    "jupyter": {
     "outputs_hidden": false
    }
   },
   "outputs": [
    {
     "name": "stdout",
     "output_type": "stream",
     "text": [
      "sort algorithm timings for a random list of size 20000\n",
      "bubble                                                       29.3 s\n",
      "insertion                                                    12.9 s\n",
      "merge                                                      0.0674 s\n"
     ]
    }
   ],
   "source": [
    "#now let's see how fast they are \n",
    "import numpy as np\n",
    "import time\n",
    "list_size = 20000\n",
    "unsorted = list(np.random.randint(0, list_size, list_size))\n",
    "print(f\"sort algorithm timings for a random list of size {list_size}\")\n",
    "tick = time.time()\n",
    "bubble(unsorted)\n",
    "print(f\"{'bubble':<25}{time.time() - tick:>40.3} s\")\n",
    "tick = time.time()\n",
    "insertion(unsorted)\n",
    "print(f\"{'insertion':<25}{time.time() - tick:>40.3} s\")\n",
    "tick = time.time()\n",
    "merge(unsorted)\n",
    "print(f\"{'merge':<25}{time.time() - tick:>40.3} s\")\n"
   ]
  },
  {
   "cell_type": "code",
   "execution_count": null,
   "id": "f69706f6-abb8-4429-82eb-fc26c8d9f6fd",
   "metadata": {},
   "outputs": [],
   "source": []
  }
 ],
 "metadata": {
  "kernelspec": {
   "display_name": "Python 3 (ipykernel)",
   "language": "python",
   "name": "python3"
  },
  "language_info": {
   "codemirror_mode": {
    "name": "ipython",
    "version": 3
   },
   "file_extension": ".py",
   "mimetype": "text/x-python",
   "name": "python",
   "nbconvert_exporter": "python",
   "pygments_lexer": "ipython3",
   "version": "3.10.0"
  }
 },
 "nbformat": 4,
 "nbformat_minor": 5
}
